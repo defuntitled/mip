{
  "cells": [
    {
      "cell_type": "code",
      "execution_count": 1,
      "metadata": {
        "colab": {
          "base_uri": "https://localhost:8080/"
        },
        "id": "jv7ZZBcee7K4",
        "outputId": "a8baa0c0-1479-4277-dcd0-9e5075d02519"
      },
      "outputs": [
        {
          "name": "stdout",
          "output_type": "stream",
          "text": [
            "Requirement already satisfied: pybullet in d:\\projects\\cp\\.venv\\lib\\site-packages (3.2.6)\n",
            "Note: you may need to restart the kernel to use updated packages.\n",
            "Requirement already satisfied: control in d:\\projects\\cp\\.venv\\lib\\site-packages (0.10.0)\n",
            "Requirement already satisfied: numpy>=1.23 in d:\\projects\\cp\\.venv\\lib\\site-packages (from control) (1.26.4)\n",
            "Requirement already satisfied: scipy>=1.8 in d:\\projects\\cp\\.venv\\lib\\site-packages (from control) (1.13.1)\n",
            "Requirement already satisfied: matplotlib>=3.6 in d:\\projects\\cp\\.venv\\lib\\site-packages (from control) (3.9.0)\n",
            "Requirement already satisfied: contourpy>=1.0.1 in d:\\projects\\cp\\.venv\\lib\\site-packages (from matplotlib>=3.6->control) (1.2.1)\n",
            "Requirement already satisfied: cycler>=0.10 in d:\\projects\\cp\\.venv\\lib\\site-packages (from matplotlib>=3.6->control) (0.12.1)\n",
            "Requirement already satisfied: fonttools>=4.22.0 in d:\\projects\\cp\\.venv\\lib\\site-packages (from matplotlib>=3.6->control) (4.53.0)\n",
            "Requirement already satisfied: kiwisolver>=1.3.1 in d:\\projects\\cp\\.venv\\lib\\site-packages (from matplotlib>=3.6->control) (1.4.5)\n",
            "Requirement already satisfied: packaging>=20.0 in d:\\projects\\cp\\.venv\\lib\\site-packages (from matplotlib>=3.6->control) (24.0)\n",
            "Requirement already satisfied: pillow>=8 in d:\\projects\\cp\\.venv\\lib\\site-packages (from matplotlib>=3.6->control) (10.3.0)\n",
            "Requirement already satisfied: pyparsing>=2.3.1 in d:\\projects\\cp\\.venv\\lib\\site-packages (from matplotlib>=3.6->control) (3.1.2)\n",
            "Requirement already satisfied: python-dateutil>=2.7 in d:\\projects\\cp\\.venv\\lib\\site-packages (from matplotlib>=3.6->control) (2.9.0.post0)\n",
            "Requirement already satisfied: six>=1.5 in d:\\projects\\cp\\.venv\\lib\\site-packages (from python-dateutil>=2.7->matplotlib>=3.6->control) (1.16.0)\n",
            "Note: you may need to restart the kernel to use updated packages.\n"
          ]
        }
      ],
      "source": [
        "%pip install pybullet\n",
        "%pip install control"
      ]
    },
    {
      "cell_type": "code",
      "execution_count": 4,
      "metadata": {
        "colab": {
          "base_uri": "https://localhost:8080/"
        },
        "id": "wZBZFQD3exxn",
        "outputId": "afe3669b-dde1-490c-af98-75bb4c640867"
      },
      "outputs": [
        {
          "name": "stdout",
          "output_type": "stream",
          "text": [
            "lqr: [[27.01562119 10.16573066]]\n",
            "poles lqr:EigResult(eigenvalues=array([ -3.24918388, -39.41373877]), eigenvectors=array([[ 0.29415333, -0.0253637 ],\n",
            "       [-0.95575824,  0.99967829]]))\n"
          ]
        }
      ],
      "source": [
        "import pybullet as p\n",
        "import numpy as np\n",
        "from control.matlab import place, lqr\n",
        "\n",
        "dt = 1/240\n",
        "th0 =  np.pi-np.deg2rad(10)\n",
        "thd = np.pi\n",
        "jIdx = 1\n",
        "e_int = 0\n",
        "e_prev = 0\n",
        "maxTime = 10\n",
        "logTime = np.arange(0.0, maxTime, dt)\n",
        "sz = len(logTime)\n",
        "logPos = np.zeros(sz)\n",
        "logPos[0] = th0\n",
        "logVel = np.zeros(sz)\n",
        "logCtrl = np.zeros(sz)\n",
        "idx = 0\n",
        "u = 0\n",
        "\n",
        "g = 10\n",
        "L = 0.5\n",
        "m = 1\n",
        "kf = 0.5\n",
        "a = -g/L\n",
        "b = -1/(m*L*L)\n",
        "c = kf*b\n",
        "\n",
        "A = np.array([[0, 1],\n",
        "            [a, c]])\n",
        "B = np.array(([0], [b]))\n",
        "\n",
        "\n",
        "Q = np.diag([10,1])\n",
        "R = 0.01\n",
        "K, *_ = lqr(A, B, Q, R)\n",
        "K = -K\n",
        "print(f\"lqr: {K}\")\n",
        "print(f\"poles lqr:{np.linalg.eig(A+B@K)}\")\n"
      ]
    },
    {
      "cell_type": "code",
      "execution_count": 5,
      "metadata": {
        "id": "LTR92cJif33J"
      },
      "outputs": [
        {
          "data": {
            "image/png": "[encoded data removed]",
            "text/plain": [
              "<Figure size 640x480 with 3 Axes>"
            ]
          },
          "metadata": {},
          "output_type": "display_data"
        }
      ],
      "source": [
        "physicsClient = p.connect(p.DIRECT) # or p.DIRECT for non-graphical version\n",
        "p.setGravity(0,0,-10)\n",
        "boxId = p.loadURDF(\"./pendulum.urdf\", useFixedBase=True)\n",
        "\n",
        "# turn off internal damping\n",
        "p.changeDynamics(boxId, 1, linearDamping=0, angularDamping=0)\n",
        "\n",
        "# go to the starting position\n",
        "p.setJointMotorControl2(bodyIndex=boxId, jointIndex=jIdx, targetPosition=th0, controlMode=p.POSITION_CONTROL)\n",
        "for _ in range(1000):\n",
        "    p.stepSimulation()\n",
        "\n",
        "# turn off the motor for the free motion\n",
        "p.setJointMotorControl2(bodyIndex=boxId, jointIndex=jIdx, targetVelocity=0, controlMode=p.VELOCITY_CONTROL, force=0)\n",
        "for t in logTime[1:]:\n",
        "    # p.setJointMotorControl2(bodyIndex=boxId, jointIndex=jIdx, controlMode=p.TORQUE_CONTROL, force=f)\n",
        "    jointState = p.getJointState(boxId, jIdx)\n",
        "    th1 = jointState[0]\n",
        "    dth1 = jointState[1]\n",
        "    e = th1-thd\n",
        "    ed = (e-e_prev)/dt\n",
        "    e_int += e*dt\n",
        "    e_prev = e\n",
        "    #u = -kp*e - ki*e_int - kd*ed\n",
        "    u = -K[0,0]*e - K[0,1]*dth1\n",
        "    logCtrl[idx] = u\n",
        "    # p.setJointMotorControl2(\n",
        "    #     bodyIndex=boxId,\n",
        "    #     jointIndex=jIdx,\n",
        "    #     controlMode=p.VELOCITY_CONTROL,\n",
        "    #     targetVelocity=u\n",
        "    # )\n",
        "\n",
        "    p.setJointMotorControl2(\n",
        "        bodyIndex=boxId,\n",
        "        jointIndex=jIdx,\n",
        "        controlMode=p.TORQUE_CONTROL,\n",
        "        force=u\n",
        "    )\n",
        "\n",
        "    p.stepSimulation()\n",
        "\n",
        "    jointState = p.getJointState(boxId, jIdx)\n",
        "    th1 = jointState[0]\n",
        "    dth1 = jointState[1]\n",
        "    logVel[idx] = dth1\n",
        "    idx += 1\n",
        "    logPos[idx] = th1\n",
        "\n",
        "logVel[idx] = p.getJointState(boxId, jIdx)[1]\n",
        "logCtrl[idx] = u\n",
        "\n",
        "# setTempLvl(lvl) [0-100]\n",
        "# t = getTemperature()\n",
        "# e = t-t_d\n",
        "# u = -10*e\n",
        "# setTemplLvl(u)\n",
        "\n",
        "import matplotlib.pyplot as plt\n",
        "\n",
        "plt.subplot(3,1,1)\n",
        "plt.grid(True)\n",
        "plt.plot(logTime, logPos, label = \"simPos\")\n",
        "plt.plot([logTime[0],logTime[-1]],[thd,thd],'r', label='refPos')\n",
        "plt.legend()\n",
        "\n",
        "plt.subplot(3,1,2)\n",
        "plt.grid(True)\n",
        "plt.plot(logTime, logVel, label = \"simVel\")\n",
        "plt.legend()\n",
        "\n",
        "plt.subplot(3,1,3)\n",
        "plt.grid(True)\n",
        "plt.plot(logTime, logCtrl, label = \"simCtrl\")\n",
        "plt.legend()\n",
        "\n",
        "plt.show()\n",
        "\n",
        "p.disconnect()"
      ]
    }
  ],
  "metadata": {
    "colab": {
      "provenance": []
    },
    "kernelspec": {
      "display_name": "Python 3",
      "name": "python3"
    },
    "language_info": {
      "codemirror_mode": {
        "name": "ipython",
        "version": 3
      },
      "file_extension": ".py",
      "mimetype": "text/x-python",
      "name": "python",
      "nbconvert_exporter": "python",
      "pygments_lexer": "ipython3",
      "version": "3.10.7"
    }
  },
  "nbformat": 4,
  "nbformat_minor": 0
}
