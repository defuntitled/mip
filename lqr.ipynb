{
  "nbformat": 4,
  "nbformat_minor": 0,
  "metadata": {
    "colab": {
      "provenance": []
    },
    "kernelspec": {
      "name": "python3",
      "display_name": "Python 3"
    },
    "language_info": {
      "name": "python"
    }
  },
  "cells": [
    {
      "cell_type": "code",
      "source": [
        "!pip install pybullet\n",
        "!pip install control"
      ],
      "metadata": {
        "colab": {
          "base_uri": "https://localhost:8080/"
        },
        "id": "jv7ZZBcee7K4",
        "outputId": "7f70a812-77fa-4cda-8d73-fb259fb9cb44"
      },
      "execution_count": 4,
      "outputs": [
        {
          "output_type": "stream",
          "name": "stdout",
          "text": [
            "Requirement already satisfied: pybullet in /usr/local/lib/python3.10/dist-packages (3.2.6)\n",
            "Collecting control\n",
            "  Downloading control-0.10.0-py3-none-any.whl (513 kB)\n",
            "\u001b[2K     \u001b[90m━━━━━━━━━━━━━━━━━━━━━━━━━━━━━━━━━━━━━━━━\u001b[0m \u001b[32m513.9/513.9 kB\u001b[0m \u001b[31m8.5 MB/s\u001b[0m eta \u001b[36m0:00:00\u001b[0m\n",
            "\u001b[?25hRequirement already satisfied: numpy>=1.23 in /usr/local/lib/python3.10/dist-packages (from control) (1.25.2)\n",
            "Requirement already satisfied: scipy>=1.8 in /usr/local/lib/python3.10/dist-packages (from control) (1.11.4)\n",
            "Requirement already satisfied: matplotlib>=3.6 in /usr/local/lib/python3.10/dist-packages (from control) (3.7.1)\n",
            "Requirement already satisfied: contourpy>=1.0.1 in /usr/local/lib/python3.10/dist-packages (from matplotlib>=3.6->control) (1.2.1)\n",
            "Requirement already satisfied: cycler>=0.10 in /usr/local/lib/python3.10/dist-packages (from matplotlib>=3.6->control) (0.12.1)\n",
            "Requirement already satisfied: fonttools>=4.22.0 in /usr/local/lib/python3.10/dist-packages (from matplotlib>=3.6->control) (4.53.0)\n",
            "Requirement already satisfied: kiwisolver>=1.0.1 in /usr/local/lib/python3.10/dist-packages (from matplotlib>=3.6->control) (1.4.5)\n",
            "Requirement already satisfied: packaging>=20.0 in /usr/local/lib/python3.10/dist-packages (from matplotlib>=3.6->control) (24.0)\n",
            "Requirement already satisfied: pillow>=6.2.0 in /usr/local/lib/python3.10/dist-packages (from matplotlib>=3.6->control) (9.4.0)\n",
            "Requirement already satisfied: pyparsing>=2.3.1 in /usr/local/lib/python3.10/dist-packages (from matplotlib>=3.6->control) (3.1.2)\n",
            "Requirement already satisfied: python-dateutil>=2.7 in /usr/local/lib/python3.10/dist-packages (from matplotlib>=3.6->control) (2.8.2)\n",
            "Requirement already satisfied: six>=1.5 in /usr/local/lib/python3.10/dist-packages (from python-dateutil>=2.7->matplotlib>=3.6->control) (1.16.0)\n",
            "Installing collected packages: control\n",
            "Successfully installed control-0.10.0\n"
          ]
        }
      ]
    },
    {
      "cell_type": "code",
      "execution_count": 26,
      "metadata": {
        "colab": {
          "base_uri": "https://localhost:8080/"
        },
        "id": "wZBZFQD3exxn",
        "outputId": "8e862c99-a999-4281-da86-c1449e1a0bdc"
      },
      "outputs": [
        {
          "output_type": "stream",
          "name": "stdout",
          "text": [
            "lqr: [[6.18033989 1.58330745]]\n",
            "poles lqr:EigResult(eigenvalues=array([-4.16661491+5.23074371j, -4.16661491-5.23074371j]), eigenvectors=array([[ 0.09214384+0.11567683j,  0.09214384-0.11567683j],\n",
            "       [-0.98900373+0.j        , -0.98900373-0.j        ]]))\n"
          ]
        }
      ],
      "source": [
        "import pybullet as p\n",
        "import numpy as np\n",
        "from control.matlab import place, lqr\n",
        "\n",
        "dt = 1/240\n",
        "th0 =  np.pi\n",
        "thd = 0.0\n",
        "jIdx = 1\n",
        "e_int = 0\n",
        "e_prev = 0\n",
        "maxTime = 10\n",
        "logTime = np.arange(0.0, maxTime, dt)\n",
        "sz = len(logTime)\n",
        "logPos = np.zeros(sz)\n",
        "logPos[0] = th0\n",
        "logVel = np.zeros(sz)\n",
        "logCtrl = np.zeros(sz)\n",
        "idx = 0\n",
        "u = 0\n",
        "\n",
        "g = 10\n",
        "L = 0.5\n",
        "m = 1\n",
        "kf = 0.5\n",
        "a = -g/L\n",
        "b = -1/(m*L*L)\n",
        "c = kf*b\n",
        "\n",
        "A = np.array([[0, 1],\n",
        "            [a, c]])\n",
        "B = np.array(([0], [b]))\n",
        "\n",
        "\n",
        "Q = np.diag([100,1])\n",
        "R = 1\n",
        "K, *_ = lqr(A, B, Q, R)\n",
        "K = -K\n",
        "print(f\"lqr: {K}\")\n",
        "print(f\"poles lqr:{np.linalg.eig(A+B@K)}\")\n"
      ]
    },
    {
      "cell_type": "code",
      "source": [
        "physicsClient = p.connect(p.DIRECT) # or p.DIRECT for non-graphical version\n",
        "p.setGravity(0,0,-10)\n",
        "boxId = p.loadURDF(\"./pendulum.urdf\", useFixedBase=True)\n",
        "\n",
        "# turn off internal damping\n",
        "p.changeDynamics(boxId, 1, linearDamping=0, angularDamping=0)\n",
        "\n",
        "# go to the starting position\n",
        "p.setJointMotorControl2(bodyIndex=boxId, jointIndex=jIdx, targetPosition=th0, controlMode=p.POSITION_CONTROL)\n",
        "for _ in range(1000):\n",
        "    p.stepSimulation()\n",
        "\n",
        "# turn off the motor for the free motion\n",
        "p.setJointMotorControl2(bodyIndex=boxId, jointIndex=jIdx, targetVelocity=0, controlMode=p.VELOCITY_CONTROL, force=0)\n",
        "for t in logTime[1:]:\n",
        "    # p.setJointMotorControl2(bodyIndex=boxId, jointIndex=jIdx, controlMode=p.TORQUE_CONTROL, force=f)\n",
        "    jointState = p.getJointState(boxId, jIdx)\n",
        "    th1 = jointState[0]\n",
        "    dth1 = jointState[1]\n",
        "    e = th1-thd\n",
        "    ed = (e-e_prev)/dt\n",
        "    e_int += e*dt\n",
        "    e_prev = e\n",
        "    #u = -kp*e - ki*e_int - kd*ed\n",
        "    u = -K[0,0]*e - K[0,1]*dth1\n",
        "    logCtrl[idx] = u\n",
        "    # p.setJointMotorControl2(\n",
        "    #     bodyIndex=boxId,\n",
        "    #     jointIndex=jIdx,\n",
        "    #     controlMode=p.VELOCITY_CONTROL,\n",
        "    #     targetVelocity=u\n",
        "    # )\n",
        "\n",
        "    p.setJointMotorControl2(\n",
        "        bodyIndex=boxId,\n",
        "        jointIndex=jIdx,\n",
        "        controlMode=p.TORQUE_CONTROL,\n",
        "        force=u\n",
        "    )\n",
        "\n",
        "    p.stepSimulation()\n",
        "\n",
        "    jointState = p.getJointState(boxId, jIdx)\n",
        "    th1 = jointState[0]\n",
        "    dth1 = jointState[1]\n",
        "    logVel[idx] = dth1\n",
        "    idx += 1\n",
        "    logPos[idx] = th1\n",
        "\n",
        "logVel[idx] = p.getJointState(boxId, jIdx)[1]\n",
        "logCtrl[idx] = u\n",
        "\n",
        "# setTempLvl(lvl) [0-100]\n",
        "# t = getTemperature()\n",
        "# e = t-t_d\n",
        "# u = -10*e\n",
        "# setTemplLvl(u)\n",
        "\n",
        "import matplotlib.pyplot as plt\n",
        "\n",
        "plt.subplot(3,1,1)\n",
        "plt.grid(True)\n",
        "plt.plot(logTime, logPos, label = \"simPos\")\n",
        "plt.plot([logTime[0],logTime[-1]],[thd,thd],'r', label='refPos')\n",
        "plt.legend()\n",
        "\n",
        "plt.subplot(3,1,2)\n",
        "plt.grid(True)\n",
        "plt.plot(logTime, logVel, label = \"simVel\")\n",
        "plt.legend()\n",
        "\n",
        "plt.subplot(3,1,3)\n",
        "plt.grid(True)\n",
        "plt.plot(logTime, logCtrl, label = \"simCtrl\")\n",
        "plt.legend()\n",
        "\n",
        "plt.show()\n",
        "\n",
        "p.disconnect()"
      ],
      "metadata": {
        "colab": {
          "base_uri": "https://localhost:8080/",
          "height": 430
        },
        "id": "LTR92cJif33J",
        "outputId": "594cd6b7-8ff3-4194-ab47-9ba66d70b746"
      },
      "execution_count": 27,
      "outputs": [
        {
          "output_type": "display_data",
          "data": {
            "text/plain": [
              "<Figure size 640x480 with 3 Axes>"
            ],
            "image/png": "[encoded data removed]"
          },
          "metadata": {}
        }
      ]
    }
  ]
}